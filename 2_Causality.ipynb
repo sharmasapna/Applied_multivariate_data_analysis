{
 "cells": [
  {
   "cell_type": "markdown",
   "id": "be92a52a",
   "metadata": {},
   "source": [
    "# Causal Inference of Obesity’s Effect on Diabetes Risk Using EconML"
   ]
  },
  {
   "cell_type": "markdown",
   "id": "e4591ee4",
   "metadata": {},
   "source": [
    "## Importing Libraries"
   ]
  },
  {
   "cell_type": "code",
   "execution_count": 4,
   "id": "5eff0e9b",
   "metadata": {},
   "outputs": [],
   "source": [
    "import pandas as pd\n",
    "import numpy as np\n",
    "import matplotlib.pyplot as plt\n",
    "from sklearn.linear_model import LogisticRegression\n",
    "from econml.dml import LinearDML, CausalForestDML\n",
    "from sklearn.ensemble import RandomForestRegressor, RandomForestClassifier\n",
    "from econml.dml import CausalForestDML\n"
   ]
  },
  {
   "cell_type": "code",
   "execution_count": null,
   "id": "f69c1638",
   "metadata": {},
   "outputs": [
    {
     "data": {
      "text/html": [
       "<div>\n",
       "<style scoped>\n",
       "    .dataframe tbody tr th:only-of-type {\n",
       "        vertical-align: middle;\n",
       "    }\n",
       "\n",
       "    .dataframe tbody tr th {\n",
       "        vertical-align: top;\n",
       "    }\n",
       "\n",
       "    .dataframe thead th {\n",
       "        text-align: right;\n",
       "    }\n",
       "</style>\n",
       "<table border=\"1\" class=\"dataframe\">\n",
       "  <thead>\n",
       "    <tr style=\"text-align: right;\">\n",
       "      <th></th>\n",
       "      <th>Pregnancies</th>\n",
       "      <th>Glucose</th>\n",
       "      <th>BloodPressure</th>\n",
       "      <th>SkinThickness</th>\n",
       "      <th>Insulin</th>\n",
       "      <th>BMI</th>\n",
       "      <th>DiabetesPedigreeFunction</th>\n",
       "      <th>Age</th>\n",
       "      <th>Outcome</th>\n",
       "    </tr>\n",
       "  </thead>\n",
       "  <tbody>\n",
       "    <tr>\n",
       "      <th>0</th>\n",
       "      <td>6</td>\n",
       "      <td>148</td>\n",
       "      <td>72</td>\n",
       "      <td>35</td>\n",
       "      <td>0</td>\n",
       "      <td>33.6</td>\n",
       "      <td>0.627</td>\n",
       "      <td>50</td>\n",
       "      <td>1</td>\n",
       "    </tr>\n",
       "    <tr>\n",
       "      <th>1</th>\n",
       "      <td>1</td>\n",
       "      <td>85</td>\n",
       "      <td>66</td>\n",
       "      <td>29</td>\n",
       "      <td>0</td>\n",
       "      <td>26.6</td>\n",
       "      <td>0.351</td>\n",
       "      <td>31</td>\n",
       "      <td>0</td>\n",
       "    </tr>\n",
       "    <tr>\n",
       "      <th>2</th>\n",
       "      <td>8</td>\n",
       "      <td>183</td>\n",
       "      <td>64</td>\n",
       "      <td>0</td>\n",
       "      <td>0</td>\n",
       "      <td>23.3</td>\n",
       "      <td>0.672</td>\n",
       "      <td>32</td>\n",
       "      <td>1</td>\n",
       "    </tr>\n",
       "    <tr>\n",
       "      <th>3</th>\n",
       "      <td>1</td>\n",
       "      <td>89</td>\n",
       "      <td>66</td>\n",
       "      <td>23</td>\n",
       "      <td>94</td>\n",
       "      <td>28.1</td>\n",
       "      <td>0.167</td>\n",
       "      <td>21</td>\n",
       "      <td>0</td>\n",
       "    </tr>\n",
       "    <tr>\n",
       "      <th>4</th>\n",
       "      <td>0</td>\n",
       "      <td>137</td>\n",
       "      <td>40</td>\n",
       "      <td>35</td>\n",
       "      <td>168</td>\n",
       "      <td>43.1</td>\n",
       "      <td>2.288</td>\n",
       "      <td>33</td>\n",
       "      <td>1</td>\n",
       "    </tr>\n",
       "    <tr>\n",
       "      <th>...</th>\n",
       "      <td>...</td>\n",
       "      <td>...</td>\n",
       "      <td>...</td>\n",
       "      <td>...</td>\n",
       "      <td>...</td>\n",
       "      <td>...</td>\n",
       "      <td>...</td>\n",
       "      <td>...</td>\n",
       "      <td>...</td>\n",
       "    </tr>\n",
       "    <tr>\n",
       "      <th>763</th>\n",
       "      <td>10</td>\n",
       "      <td>101</td>\n",
       "      <td>76</td>\n",
       "      <td>48</td>\n",
       "      <td>180</td>\n",
       "      <td>32.9</td>\n",
       "      <td>0.171</td>\n",
       "      <td>63</td>\n",
       "      <td>0</td>\n",
       "    </tr>\n",
       "    <tr>\n",
       "      <th>764</th>\n",
       "      <td>2</td>\n",
       "      <td>122</td>\n",
       "      <td>70</td>\n",
       "      <td>27</td>\n",
       "      <td>0</td>\n",
       "      <td>36.8</td>\n",
       "      <td>0.340</td>\n",
       "      <td>27</td>\n",
       "      <td>0</td>\n",
       "    </tr>\n",
       "    <tr>\n",
       "      <th>765</th>\n",
       "      <td>5</td>\n",
       "      <td>121</td>\n",
       "      <td>72</td>\n",
       "      <td>23</td>\n",
       "      <td>112</td>\n",
       "      <td>26.2</td>\n",
       "      <td>0.245</td>\n",
       "      <td>30</td>\n",
       "      <td>0</td>\n",
       "    </tr>\n",
       "    <tr>\n",
       "      <th>766</th>\n",
       "      <td>1</td>\n",
       "      <td>126</td>\n",
       "      <td>60</td>\n",
       "      <td>0</td>\n",
       "      <td>0</td>\n",
       "      <td>30.1</td>\n",
       "      <td>0.349</td>\n",
       "      <td>47</td>\n",
       "      <td>1</td>\n",
       "    </tr>\n",
       "    <tr>\n",
       "      <th>767</th>\n",
       "      <td>1</td>\n",
       "      <td>93</td>\n",
       "      <td>70</td>\n",
       "      <td>31</td>\n",
       "      <td>0</td>\n",
       "      <td>30.4</td>\n",
       "      <td>0.315</td>\n",
       "      <td>23</td>\n",
       "      <td>0</td>\n",
       "    </tr>\n",
       "  </tbody>\n",
       "</table>\n",
       "<p>768 rows × 9 columns</p>\n",
       "</div>"
      ],
      "text/plain": [
       "     Pregnancies  Glucose  BloodPressure  SkinThickness  Insulin   BMI  \\\n",
       "0              6      148             72             35        0  33.6   \n",
       "1              1       85             66             29        0  26.6   \n",
       "2              8      183             64              0        0  23.3   \n",
       "3              1       89             66             23       94  28.1   \n",
       "4              0      137             40             35      168  43.1   \n",
       "..           ...      ...            ...            ...      ...   ...   \n",
       "763           10      101             76             48      180  32.9   \n",
       "764            2      122             70             27        0  36.8   \n",
       "765            5      121             72             23      112  26.2   \n",
       "766            1      126             60              0        0  30.1   \n",
       "767            1       93             70             31        0  30.4   \n",
       "\n",
       "     DiabetesPedigreeFunction  Age  Outcome  \n",
       "0                       0.627   50        1  \n",
       "1                       0.351   31        0  \n",
       "2                       0.672   32        1  \n",
       "3                       0.167   21        0  \n",
       "4                       2.288   33        1  \n",
       "..                        ...  ...      ...  \n",
       "763                     0.171   63        0  \n",
       "764                     0.340   27        0  \n",
       "765                     0.245   30        0  \n",
       "766                     0.349   47        1  \n",
       "767                     0.315   23        0  \n",
       "\n",
       "[768 rows x 9 columns]"
      ]
     },
     "execution_count": 5,
     "metadata": {},
     "output_type": "execute_result"
    }
   ],
   "source": [
    "# importing and exploring the diabetes dataset\n",
    "# source: https://www.kaggle.com/datasets/uciml/pima-indians-diabetes-database\n",
    "df = pd.read_csv('diabetes.csv')\n",
    "df\n"
   ]
  },
  {
   "cell_type": "code",
   "execution_count": 6,
   "id": "1cb8d045",
   "metadata": {},
   "outputs": [
    {
     "name": "stdout",
     "output_type": "stream",
     "text": [
      "LinearDML ATE (mean CATE): 0.17\n"
     ]
    },
    {
     "data": {
      "image/png": "[encoded data removed]",
      "text/plain": [
       "<Figure size 432x288 with 1 Axes>"
      ]
     },
     "metadata": {
      "needs_background": "light"
     },
     "output_type": "display_data"
    }
   ],
   "source": [
    "# Define Outcome, Treatment, and Covariates\n",
    "Y = df[\"Outcome\"].to_numpy().astype(float)\n",
    "\n",
    "# Example treatment: obesity (BMI > 30)\n",
    "df[\"Treatment\"] = (df[\"BMI\"] > 30).astype(int)\n",
    "T = df[\"Treatment\"].to_numpy().astype(int)\n",
    "\n",
    "# Confounders: all other columns except Outcome and BMI (used in treatment definition)\n",
    "covars = [\"Pregnancies\", \"Glucose\", \"BloodPressure\", \"SkinThickness\", \n",
    "          \"Insulin\", \"DiabetesPedigreeFunction\", \"Age\"]\n",
    "X = df[covars].to_numpy().astype(float)\n",
    "\n",
    "# Initialize models LinearDML (ATE and CATE)\n",
    "model_y = RandomForestRegressor(n_estimators=300, min_samples_leaf=5, random_state=42)\n",
    "model_t = LogisticRegression(max_iter=2000)\n",
    "\n",
    "# Setup and fit LinearDML\n",
    "dml = LinearDML(\n",
    "    model_y=model_y,\n",
    "    model_t=model_t,\n",
    "    discrete_treatment=True,\n",
    "    random_state=42\n",
    ")\n",
    "dml.fit(Y, T, X=X)\n",
    "\n",
    "cate_dml = dml.effect(X)\n",
    "ate_dml = float(np.mean(cate_dml))\n",
    "print(\"LinearDML ATE (mean CATE):\", round(ate_dml, 3))\n",
    "\n",
    "plt.figure()\n",
    "plt.hist(cate_dml, bins=30)\n",
    "plt.xlabel(\"Estimated CATE  tau_hat(X)\")\n",
    "plt.ylabel(\"Count\")\n",
    "plt.title(\"LinearDML — distribution of individual treatment effects\")\n",
    "plt.show()"
   ]
  },
  {
   "cell_type": "markdown",
   "id": "16bc4086",
   "metadata": {},
   "source": [
    "### Interpretation\n",
    "- 0.17 means that, on average, being obese increases the probability of having diabetes by 17 percentage points relative to not being obese.\n",
    "\n",
    "- The histogram of cate_dml shows that most conditional treatment effect estimates are positive, concentrated around 0.1–0.3, suggesting the treatment is generally beneficial. However, the distribution is fairly wide, with some negative values and some large positive effects (>0.5), indicating substantial heterogeneity in treatment responses across individuals."
   ]
  },
  {
   "cell_type": "markdown",
   "id": "9ccf78bf",
   "metadata": {},
   "source": [
    "### Heterogeneous Effects by Age, Glucose, and BMI"
   ]
  },
  {
   "cell_type": "code",
   "execution_count": 7,
   "id": "3694bf55",
   "metadata": {},
   "outputs": [
    {
     "name": "stdout",
     "output_type": "stream",
     "text": [
      "Age ≤ 29.0: ATE = 0.142\n",
      "Age > 29.0: ATE = 0.200\n",
      "Glucose ≤ 117.0: ATE = 0.113\n",
      "Glucose > 117.0: ATE = 0.230\n",
      "BMI ≤ 32.0: ATE = 0.172\n",
      "BMI > 32.0: ATE = 0.169\n"
     ]
    }
   ],
   "source": [
    "for group in [\"Age\", \"Glucose\", \"BMI\"]:\n",
    "    median = np.median(df[group])\n",
    "    low_idx = df[group] <= median\n",
    "    high_idx = df[group] > median\n",
    "    ate_low = np.mean(dml.effect(X[low_idx]))\n",
    "    ate_high = np.mean(dml.effect(X[high_idx]))\n",
    "    print(f\"{group} ≤ {median}: ATE = {ate_low:.3f}\")\n",
    "    print(f\"{group} > {median}: ATE = {ate_high:.3f}\")\n",
    "\n"
   ]
  },
  {
   "cell_type": "markdown",
   "id": "c9752c4f",
   "metadata": {},
   "source": [
    "### Interpretation\n",
    "- Obesity increases diabetes risk across all groups.\n",
    "- The effect is stronger in older patients(+20% risk) and in those with higher glucose(+23% risk).\n",
    "- But BMI itself (within the obese range) doesn’t differentiate much — the key drivers of heterogeneity are age and glucose."
   ]
  },
  {
   "cell_type": "markdown",
   "id": "eaae9656",
   "metadata": {},
   "source": [
    "### Final Summary\n",
    "\n",
    "Our causal analysis using **LinearDML** suggests that **obesity increases the probability of diabetes by about 17 percentage points on average**.\n",
    "\n",
    "The **distribution of conditional treatment effects (CATEs)** shows that most individuals experience a positive effect of obesity on diabetes risk (typically between 0.10–0.30), though there is **substantial heterogeneity**: some individuals show little or even negative effects, while others face much higher risks (>0.50).\n",
    "\n",
    "Subgroup analysis reveals that the **obesity effect is consistently harmful across all groups**, but it is **stronger in older patients and in those with elevated glucose levels**. By contrast, **BMI itself (within the obese category) does not substantially change the effect**, suggesting that **age and glucose are the key drivers of heterogeneity** in obesity’s impact on diabetes."
   ]
  },
  {
   "cell_type": "code",
   "execution_count": null,
   "id": "04a8f38e",
   "metadata": {},
   "outputs": [],
   "source": []
  },
  {
   "cell_type": "code",
   "execution_count": null,
   "id": "20350b17",
   "metadata": {},
   "outputs": [],
   "source": []
  }
 ],
 "metadata": {
  "kernelspec": {
   "display_name": "py38",
   "language": "python",
   "name": "python3"
  },
  "language_info": {
   "codemirror_mode": {
    "name": "ipython",
    "version": 3
   },
   "file_extension": ".py",
   "mimetype": "text/x-python",
   "name": "python",
   "nbconvert_exporter": "python",
   "pygments_lexer": "ipython3",
   "version": "3.8.5"
  }
 },
 "nbformat": 4,
 "nbformat_minor": 5
}
